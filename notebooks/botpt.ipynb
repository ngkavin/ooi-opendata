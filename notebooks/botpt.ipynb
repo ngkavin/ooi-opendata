{
 "cells": [
  {
   "cell_type": "markdown",
   "metadata": {},
   "source": [
    "## Load available keys"
   ]
  },
  {
   "cell_type": "code",
   "execution_count": 1,
   "metadata": {},
   "outputs": [],
   "source": [
    "import ooiod"
   ]
  },
  {
   "cell_type": "code",
   "execution_count": 2,
   "metadata": {},
   "outputs": [
    {
     "name": "stdout",
     "output_type": "stream",
     "text": [
      "You have:\n",
      "    botpt\n"
     ]
    }
   ],
   "source": [
    "key_file = '/home/jovyan/repos/ooi-opendata/secrets/daxsoule.pickle'\n",
    "keys = ooiod.secrets.load_keys(key_file)"
   ]
  },
  {
   "cell_type": "markdown",
   "metadata": {},
   "source": [
    "## Download a NetCDF file from OOI results server"
   ]
  },
  {
   "cell_type": "code",
   "execution_count": 3,
   "metadata": {},
   "outputs": [],
   "source": [
    "netcdf_url = 'https://opendap.oceanobservatories.org/async_results/dax.soule@qc.cuny.edu/20191104T001715257Z-RS03INT2-MJ03D-06-BOTPTA303-streamed-botpt_nano_sample/deployment0001_RS03INT2-MJ03D-06-BOTPTA303-streamed-botpt_nano_sample_20150102T205959.900000-20150110T210000.100000.nc'\n",
    "netcdf_filename = netcdf_url.split('/')[-1]"
   ]
  },
  {
   "cell_type": "code",
   "execution_count": 4,
   "metadata": {},
   "outputs": [],
   "source": [
    "import wget"
   ]
  },
  {
   "cell_type": "code",
   "execution_count": 5,
   "metadata": {},
   "outputs": [],
   "source": [
    "wget.download(netcdf_url);"
   ]
  },
  {
   "cell_type": "markdown",
   "metadata": {},
   "source": [
    "## Write the original NetCDF file into Azure blob"
   ]
  },
  {
   "cell_type": "code",
   "execution_count": 6,
   "metadata": {},
   "outputs": [],
   "source": [
    "from azure.storage.blob import BlockBlobService"
   ]
  },
  {
   "cell_type": "code",
   "execution_count": 7,
   "metadata": {},
   "outputs": [],
   "source": [
    "if 'botpt' in keys:\n",
    "    botpt_service = BlockBlobService('ooiopendata', sas_token = keys['botpt'])\n",
    "else:\n",
    "    raise Exception('Botpt container key not available')"
   ]
  },
  {
   "cell_type": "code",
   "execution_count": 5,
   "metadata": {},
   "outputs": [
    {
     "ename": "NameError",
     "evalue": "name 'botpt_service' is not defined",
     "output_type": "error",
     "traceback": [
      "\u001b[0;31m---------------------------------------------------------------------------\u001b[0m",
      "\u001b[0;31mNameError\u001b[0m                                 Traceback (most recent call last)",
      "\u001b[0;32m<ipython-input-5-a89b874e458a>\u001b[0m in \u001b[0;36m<module>\u001b[0;34m\u001b[0m\n\u001b[0;32m----> 1\u001b[0;31m \u001b[0mbotpt_service\u001b[0m\u001b[0;34m.\u001b[0m\u001b[0mcreate_blob_from_path\u001b[0m\u001b[0;34m(\u001b[0m\u001b[0;34m'botpt'\u001b[0m\u001b[0;34m,\u001b[0m \u001b[0mnetcdf_filename\u001b[0m\u001b[0;34m,\u001b[0m \u001b[0mnetcdf_filename\u001b[0m\u001b[0;34m,\u001b[0m \u001b[0mvalidate_content\u001b[0m\u001b[0;34m=\u001b[0m\u001b[0;32mTrue\u001b[0m\u001b[0;34m)\u001b[0m\u001b[0;34m;\u001b[0m\u001b[0;34m\u001b[0m\u001b[0;34m\u001b[0m\u001b[0m\n\u001b[0m",
      "\u001b[0;31mNameError\u001b[0m: name 'botpt_service' is not defined"
     ]
    }
   ],
   "source": [
    "botpt_service.create_blob_from_path('botpt', netcdf_filename, netcdf_filename, validate_content=True);"
   ]
  },
  {
   "cell_type": "code",
   "execution_count": 4,
   "metadata": {},
   "outputs": [
    {
     "ename": "NameError",
     "evalue": "name 'botpt_service' is not defined",
     "output_type": "error",
     "traceback": [
      "\u001b[0;31m---------------------------------------------------------------------------\u001b[0m",
      "\u001b[0;31mNameError\u001b[0m                                 Traceback (most recent call last)",
      "\u001b[0;32m<ipython-input-4-4d7a127da97e>\u001b[0m in \u001b[0;36m<module>\u001b[0;34m\u001b[0m\n\u001b[0;32m----> 1\u001b[0;31m \u001b[0;32mfor\u001b[0m \u001b[0mblob\u001b[0m \u001b[0;32min\u001b[0m \u001b[0mbotpt_service\u001b[0m\u001b[0;34m.\u001b[0m\u001b[0mlist_blobs\u001b[0m\u001b[0;34m(\u001b[0m\u001b[0;34m'botpt'\u001b[0m\u001b[0;34m)\u001b[0m\u001b[0;34m:\u001b[0m\u001b[0;34m\u001b[0m\u001b[0;34m\u001b[0m\u001b[0m\n\u001b[0m\u001b[1;32m      2\u001b[0m     \u001b[0mprint\u001b[0m\u001b[0;34m(\u001b[0m\u001b[0mblob\u001b[0m\u001b[0;34m.\u001b[0m\u001b[0mname\u001b[0m\u001b[0;34m)\u001b[0m\u001b[0;34m\u001b[0m\u001b[0;34m\u001b[0m\u001b[0m\n",
      "\u001b[0;31mNameError\u001b[0m: name 'botpt_service' is not defined"
     ]
    }
   ],
   "source": [
    "for blob in botpt_service.list_blobs('botpt'):\n",
    "    print(blob.name)"
   ]
  },
  {
   "cell_type": "markdown",
   "metadata": {},
   "source": [
    "## Load the file into Xarray and save to ooiopendata"
   ]
  },
  {
   "cell_type": "code",
   "execution_count": 7,
   "metadata": {},
   "outputs": [],
   "source": [
    "import xarray as xr\n",
    "import zarr\n",
    "import logging\n",
    "logging.getLogger(\"azure.storage\").setLevel(logging.CRITICAL)"
   ]
  },
  {
   "cell_type": "code",
   "execution_count": 22,
   "metadata": {},
   "outputs": [
    {
     "data": {
      "text/html": [
       "<pre>&lt;xarray.Dataset&gt;\n",
       "Dimensions:                      (time: 13786091)\n",
       "Coordinates:\n",
       "    obs                          (time) int32 0 1 2 ... 13786089 13786090\n",
       "  * time                         (time) datetime64[ns] 2015-01-02T20:59:59.900000256 ... 2015-01-10T21:00:00.099999744\n",
       "Data variables:\n",
       "    deployment                   (time) int32 ...\n",
       "    id                           (time) |S36 ...\n",
       "    bottom_pressure              (time) float32 ...\n",
       "    date_time_string             (time) object ...\n",
       "    driver_timestamp             (time) datetime64[ns] ...\n",
       "    ingestion_timestamp          (time) datetime64[ns] ...\n",
       "    internal_timestamp           (time) datetime64[ns] ...\n",
       "    port_timestamp               (time) datetime64[ns] ...\n",
       "    preferred_timestamp          (time) object ...\n",
       "    press_trans_temp             (time) float64 ...\n",
       "    provenance                   (time) |S1 ...\n",
       "    sensor_id                    (time) object ...\n",
       "    time_sync_flag               (time) object ...\n",
       "    bottom_pressure_qc_executed  (time) uint8 ...\n",
       "    bottom_pressure_qc_results   (time) uint8 ...\n",
       "Attributes:\n",
       "    node:                               MJ03D\n",
       "    comment:                            \n",
       "    publisher_email:                    \n",
       "    sourceUrl:                          http://oceanobservatories.org/\n",
       "    collection_method:                  streamed\n",
       "    stream:                             botpt_nano_sample\n",
       "    featureType:                        point\n",
       "    creator_email:                      \n",
       "    publisher_name:                     Ocean Observatories Initiative\n",
       "    date_modified:                      2019-11-04T07:40:15.069905\n",
       "    keywords:                           \n",
       "    cdm_data_type:                      Point\n",
       "    references:                         More information can be found at http...\n",
       "    Metadata_Conventions:               Unidata Dataset Discovery v1.0\n",
       "    date_created:                       2019-11-04T07:40:15.069900\n",
       "    id:                                 RS03INT2-MJ03D-06-BOTPTA303-streamed-...\n",
       "    requestUUID:                        e7cba928-5838-429e-8276-fd60651f4659\n",
       "    contributor_role:                   \n",
       "    summary:                            Dataset Generated by Stream Engine fr...\n",
       "    keywords_vocabulary:                \n",
       "    institution:                        Ocean Observatories Initiative\n",
       "    naming_authority:                   org.oceanobservatories\n",
       "    feature_Type:                       point\n",
       "    infoUrl:                            http://oceanobservatories.org/\n",
       "    license:                            \n",
       "    contributor_name:                   \n",
       "    uuid:                               e7cba928-5838-429e-8276-fd60651f4659\n",
       "    creator_name:                       Ocean Observatories Initiative\n",
       "    title:                              Data produced by Stream Engine versio...\n",
       "    sensor:                             06-BOTPTA303\n",
       "    standard_name_vocabulary:           NetCDF Climate and Forecast (CF) Meta...\n",
       "    acknowledgement:                    \n",
       "    Conventions:                        CF-1.6\n",
       "    project:                            Ocean Observatories Initiative\n",
       "    source:                             RS03INT2-MJ03D-06-BOTPTA303-streamed-...\n",
       "    publisher_url:                      http://oceanobservatories.org/\n",
       "    creator_url:                        http://oceanobservatories.org/\n",
       "    nodc_template_version:              NODC_NetCDF_TimeSeries_Orthogonal_Tem...\n",
       "    subsite:                            RS03INT2\n",
       "    processing_level:                   L2\n",
       "    history:                            2019-11-04T07:40:15.069843 generated ...\n",
       "    Manufacturer:                       NOAA-PMEL\n",
       "    ModelNumber:                        Custom\n",
       "    SerialNumber:                       4\n",
       "    Description:                        Bottom Pressure and Tilt: BOTPT Series A\n",
       "    FirmwareVersion:                    Not specified.\n",
       "    SoftwareVersion:                    Not specified.\n",
       "    AssetUniqueID:                      ATAPL-58316-00002\n",
       "    Notes:                              Not specified.\n",
       "    Owner:                              University of Washington\n",
       "    RemoteResources:                    []\n",
       "    ShelfLifeExpirationDate:            Not specified.\n",
       "    Mobile:                             False\n",
       "    AssetManagementRecordLastModified:  2019-10-25T22:32:47.785000\n",
       "    time_coverage_start:                2015-01-02T20:59:59.900000\n",
       "    time_coverage_end:                  2015-01-10T21:00:00.100000\n",
       "    time_coverage_resolution:           P0.05S\n",
       "    geospatial_lat_min:                 45.9258\n",
       "    geospatial_lat_max:                 45.9258\n",
       "    geospatial_lat_units:               degrees_north\n",
       "    geospatial_lat_resolution:          0.1\n",
       "    geospatial_lon_min:                 -129.9775\n",
       "    geospatial_lon_max:                 -129.9775\n",
       "    geospatial_lon_units:               degrees_east\n",
       "    geospatial_lon_resolution:          0.1\n",
       "    geospatial_vertical_units:          meters\n",
       "    geospatial_vertical_resolution:     0.1\n",
       "    geospatial_vertical_positive:       down\n",
       "    lat:                                45.9258\n",
       "    lon:                                -129.9775</pre>"
      ],
      "text/plain": [
       "<xarray.Dataset>\n",
       "Dimensions:                      (time: 13786091)\n",
       "Coordinates:\n",
       "    obs                          (time) int32 0 1 2 ... 13786089 13786090\n",
       "  * time                         (time) datetime64[ns] 2015-01-02T20:59:59.900000256 ... 2015-01-10T21:00:00.099999744\n",
       "Data variables:\n",
       "    deployment                   (time) int32 ...\n",
       "    id                           (time) |S36 ...\n",
       "    bottom_pressure              (time) float32 ...\n",
       "    date_time_string             (time) object ...\n",
       "    driver_timestamp             (time) datetime64[ns] ...\n",
       "    ingestion_timestamp          (time) datetime64[ns] ...\n",
       "    internal_timestamp           (time) datetime64[ns] ...\n",
       "    port_timestamp               (time) datetime64[ns] ...\n",
       "    preferred_timestamp          (time) object ...\n",
       "    press_trans_temp             (time) float64 ...\n",
       "    provenance                   (time) |S1 ...\n",
       "    sensor_id                    (time) object ...\n",
       "    time_sync_flag               (time) object ...\n",
       "    bottom_pressure_qc_executed  (time) uint8 ...\n",
       "    bottom_pressure_qc_results   (time) uint8 ...\n",
       "Attributes:\n",
       "    node:                               MJ03D\n",
       "    comment:                            \n",
       "    publisher_email:                    \n",
       "    sourceUrl:                          http://oceanobservatories.org/\n",
       "    collection_method:                  streamed\n",
       "    stream:                             botpt_nano_sample\n",
       "    featureType:                        point\n",
       "    creator_email:                      \n",
       "    publisher_name:                     Ocean Observatories Initiative\n",
       "    date_modified:                      2019-11-04T07:40:15.069905\n",
       "    keywords:                           \n",
       "    cdm_data_type:                      Point\n",
       "    references:                         More information can be found at http...\n",
       "    Metadata_Conventions:               Unidata Dataset Discovery v1.0\n",
       "    date_created:                       2019-11-04T07:40:15.069900\n",
       "    id:                                 RS03INT2-MJ03D-06-BOTPTA303-streamed-...\n",
       "    requestUUID:                        e7cba928-5838-429e-8276-fd60651f4659\n",
       "    contributor_role:                   \n",
       "    summary:                            Dataset Generated by Stream Engine fr...\n",
       "    keywords_vocabulary:                \n",
       "    institution:                        Ocean Observatories Initiative\n",
       "    naming_authority:                   org.oceanobservatories\n",
       "    feature_Type:                       point\n",
       "    infoUrl:                            http://oceanobservatories.org/\n",
       "    license:                            \n",
       "    contributor_name:                   \n",
       "    uuid:                               e7cba928-5838-429e-8276-fd60651f4659\n",
       "    creator_name:                       Ocean Observatories Initiative\n",
       "    title:                              Data produced by Stream Engine versio...\n",
       "    sensor:                             06-BOTPTA303\n",
       "    standard_name_vocabulary:           NetCDF Climate and Forecast (CF) Meta...\n",
       "    acknowledgement:                    \n",
       "    Conventions:                        CF-1.6\n",
       "    project:                            Ocean Observatories Initiative\n",
       "    source:                             RS03INT2-MJ03D-06-BOTPTA303-streamed-...\n",
       "    publisher_url:                      http://oceanobservatories.org/\n",
       "    creator_url:                        http://oceanobservatories.org/\n",
       "    nodc_template_version:              NODC_NetCDF_TimeSeries_Orthogonal_Tem...\n",
       "    subsite:                            RS03INT2\n",
       "    processing_level:                   L2\n",
       "    history:                            2019-11-04T07:40:15.069843 generated ...\n",
       "    Manufacturer:                       NOAA-PMEL\n",
       "    ModelNumber:                        Custom\n",
       "    SerialNumber:                       4\n",
       "    Description:                        Bottom Pressure and Tilt: BOTPT Series A\n",
       "    FirmwareVersion:                    Not specified.\n",
       "    SoftwareVersion:                    Not specified.\n",
       "    AssetUniqueID:                      ATAPL-58316-00002\n",
       "    Notes:                              Not specified.\n",
       "    Owner:                              University of Washington\n",
       "    RemoteResources:                    []\n",
       "    ShelfLifeExpirationDate:            Not specified.\n",
       "    Mobile:                             False\n",
       "    AssetManagementRecordLastModified:  2019-10-25T22:32:47.785000\n",
       "    time_coverage_start:                2015-01-02T20:59:59.900000\n",
       "    time_coverage_end:                  2015-01-10T21:00:00.100000\n",
       "    time_coverage_resolution:           P0.05S\n",
       "    geospatial_lat_min:                 45.9258\n",
       "    geospatial_lat_max:                 45.9258\n",
       "    geospatial_lat_units:               degrees_north\n",
       "    geospatial_lat_resolution:          0.1\n",
       "    geospatial_lon_min:                 -129.9775\n",
       "    geospatial_lon_max:                 -129.9775\n",
       "    geospatial_lon_units:               degrees_east\n",
       "    geospatial_lon_resolution:          0.1\n",
       "    geospatial_vertical_units:          meters\n",
       "    geospatial_vertical_resolution:     0.1\n",
       "    geospatial_vertical_positive:       down\n",
       "    lat:                                45.9258\n",
       "    lon:                                -129.9775"
      ]
     },
     "execution_count": 22,
     "metadata": {},
     "output_type": "execute_result"
    }
   ],
   "source": [
    "ds = xr.open_dataset(netcdf_filename)\n",
    "ds = ds.swap_dims({'obs': 'time'})\n",
    "ds"
   ]
  },
  {
   "cell_type": "code",
   "execution_count": 23,
   "metadata": {},
   "outputs": [
    {
     "data": {
      "text/plain": [
       "Data variables:\n",
       "    deployment                   (time) int32 ...\n",
       "    id                           (time) |S36 ...\n",
       "    bottom_pressure              (time) float32 ...\n",
       "    date_time_string             (time) object ...\n",
       "    driver_timestamp             (time) datetime64[ns] ...\n",
       "    ingestion_timestamp          (time) datetime64[ns] ...\n",
       "    internal_timestamp           (time) datetime64[ns] ...\n",
       "    port_timestamp               (time) datetime64[ns] ...\n",
       "    preferred_timestamp          (time) object ...\n",
       "    press_trans_temp             (time) float64 ...\n",
       "    provenance                   (time) |S1 ...\n",
       "    sensor_id                    (time) object ...\n",
       "    time_sync_flag               (time) object ...\n",
       "    bottom_pressure_qc_executed  (time) uint8 ...\n",
       "    bottom_pressure_qc_results   (time) uint8 ..."
      ]
     },
     "execution_count": 23,
     "metadata": {},
     "output_type": "execute_result"
    }
   ],
   "source": [
    "ds.data_vars"
   ]
  },
  {
   "cell_type": "code",
   "execution_count": 24,
   "metadata": {},
   "outputs": [
    {
     "data": {
      "text/plain": [
       "[<matplotlib.lines.Line2D at 0x7fc42b475ba8>]"
      ]
     },
     "execution_count": 24,
     "metadata": {},
     "output_type": "execute_result"
    },
    {
     "data": {
      "image/png": "[encoded data removed]",
      "text/plain": [
       "<Figure size 432x288 with 1 Axes>"
      ]
     },
     "metadata": {
      "needs_background": "light"
     },
     "output_type": "display_data"
    }
   ],
   "source": [
    "ds['bottom_pressure'].plot()"
   ]
  },
  {
   "cell_type": "code",
   "execution_count": 25,
   "metadata": {},
   "outputs": [
    {
     "data": {
      "text/plain": [
       "'RS03INT2-MJ03D-06-BOTPTA303-streamed-botpt_nano_sample'"
      ]
     },
     "execution_count": 25,
     "metadata": {},
     "output_type": "execute_result"
    }
   ],
   "source": [
    "ds.source"
   ]
  },
  {
   "cell_type": "code",
   "execution_count": 26,
   "metadata": {},
   "outputs": [
    {
     "data": {
      "text/plain": [
       "'RS03INT2-MJ03D-06-BOTPTA303'"
      ]
     },
     "execution_count": 26,
     "metadata": {},
     "output_type": "execute_result"
    }
   ],
   "source": [
    "'%s-%s-%s' % (ds.subsite,ds.node,ds.sensor)"
   ]
  },
  {
   "cell_type": "code",
   "execution_count": 27,
   "metadata": {},
   "outputs": [
    {
     "data": {
      "text/html": [
       "<pre>&lt;xarray.DataArray &#x27;press_trans_temp&#x27; (time: 13786091)&gt;\n",
       "[13786091 values with dtype=float64]\n",
       "Coordinates:\n",
       "    obs      (time) int32 0 1 2 3 4 ... 13786087 13786088 13786089 13786090\n",
       "  * time     (time) datetime64[ns] 2015-01-02T20:59:59.900000256 ... 2015-01-10T21:00:00.099999744\n",
       "Attributes:\n",
       "    comment:                  Nano-resolution Pressure Transducer Temperature...\n",
       "    long_name:                Nano-Resolution Pressure Transducer Temperature\n",
       "    coordinates:              time lat lon\n",
       "    data_product_identifier:  NPTTEMP\n",
       "    units:                    ºC</pre>"
      ],
      "text/plain": [
       "<xarray.DataArray 'press_trans_temp' (time: 13786091)>\n",
       "[13786091 values with dtype=float64]\n",
       "Coordinates:\n",
       "    obs      (time) int32 0 1 2 3 4 ... 13786087 13786088 13786089 13786090\n",
       "  * time     (time) datetime64[ns] 2015-01-02T20:59:59.900000256 ... 2015-01-10T21:00:00.099999744\n",
       "Attributes:\n",
       "    comment:                  Nano-resolution Pressure Transducer Temperature...\n",
       "    long_name:                Nano-Resolution Pressure Transducer Temperature\n",
       "    coordinates:              time lat lon\n",
       "    data_product_identifier:  NPTTEMP\n",
       "    units:                    ºC"
      ]
     },
     "execution_count": 27,
     "metadata": {},
     "output_type": "execute_result"
    }
   ],
   "source": [
    "ds['press_trans_temp']"
   ]
  },
  {
   "cell_type": "code",
   "execution_count": 29,
   "metadata": {},
   "outputs": [
    {
     "data": {
      "text/plain": [
       "['Nano-resolution Pressure Transducer Temperature is the internal',\n",
       " 'transducer temperature that is used for onboard temperature-',\n",
       " 'compensation of the pressure measurements produced by the BOTPT',\n",
       " 'instrument.']"
      ]
     },
     "execution_count": 29,
     "metadata": {},
     "output_type": "execute_result"
    }
   ],
   "source": [
    "import textwrap\n",
    "textwrap.wrap(ds['press_trans_temp'].comment)"
   ]
  },
  {
   "cell_type": "code",
   "execution_count": 30,
   "metadata": {},
   "outputs": [
    {
     "data": {
      "text/plain": [
       "('time',)"
      ]
     },
     "execution_count": 30,
     "metadata": {},
     "output_type": "execute_result"
    }
   ],
   "source": [
    "ds['bottom_pressure'].dims"
   ]
  },
  {
   "cell_type": "code",
   "execution_count": null,
   "metadata": {},
   "outputs": [],
   "source": []
  }
 ],
 "metadata": {
  "kernelspec": {
   "display_name": "Python 3",
   "language": "python",
   "name": "python3"
  },
  "language_info": {
   "codemirror_mode": {
    "name": "ipython",
    "version": 3
   },
   "file_extension": ".py",
   "mimetype": "text/x-python",
   "name": "python",
   "nbconvert_exporter": "python",
   "pygments_lexer": "ipython3",
   "version": "3.7.3"
  }
 },
 "nbformat": 4,
 "nbformat_minor": 4
}
