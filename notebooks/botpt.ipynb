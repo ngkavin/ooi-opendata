{
 "cells": [
  {
   "cell_type": "markdown",
   "metadata": {},
   "source": [
    "## Load available keys"
   ]
  },
  {
   "cell_type": "code",
   "execution_count": 11,
   "metadata": {},
   "outputs": [],
   "source": [
    "import ooiod"
   ]
  },
  {
   "cell_type": "code",
   "execution_count": 12,
   "metadata": {},
   "outputs": [
    {
     "name": "stdout",
     "output_type": "stream",
     "text": [
      "You have:\n",
      "    botpt\n"
     ]
    }
   ],
   "source": [
    "key_file = '/home/jovyan/repos/ooi-opendata/secrets/daxsoule.pickle'\n",
    "keys = ooiod.secrets.load_keys(key_file)"
   ]
  },
  {
   "cell_type": "markdown",
   "metadata": {},
   "source": [
    "## Download a NetCDF file from OOI results server"
   ]
  },
  {
   "cell_type": "code",
   "execution_count": 90,
   "metadata": {},
   "outputs": [],
   "source": [
    "netcdf_url = 'https://opendap.oceanobservatories.org/async_results/dax.soule@qc.cuny.edu/20191227T065318736Z-RS03ECAL-MJ03E-06-BOTPTA302-streamed-botpt_nano_sample/deployment0001_RS03ECAL-MJ03E-06-BOTPTA302-streamed-botpt_nano_sample_20141005T000000-20141005T235959.nc'\n",
    "netcdf_filename = netcdf_url.split('/')[-1]"
   ]
  },
  {
   "cell_type": "code",
   "execution_count": 26,
   "metadata": {},
   "outputs": [],
   "source": [
    "import wget"
   ]
  },
  {
   "cell_type": "code",
   "execution_count": 27,
   "metadata": {},
   "outputs": [],
   "source": [
    "wget.download(netcdf_url);"
   ]
  },
  {
   "cell_type": "markdown",
   "metadata": {},
   "source": [
    "## Write the original NetCDF file into Azure blob"
   ]
  },
  {
   "cell_type": "code",
   "execution_count": 48,
   "metadata": {},
   "outputs": [],
   "source": [
    "from azure.storage.blob import BlockBlobService"
   ]
  },
  {
   "cell_type": "code",
   "execution_count": 49,
   "metadata": {},
   "outputs": [],
   "source": [
    "if 'botpt' in keys:\n",
    "    botpt_service = BlockBlobService('ooiopendata', sas_token = keys['botpt'])\n",
    "else:\n",
    "    raise Exception('Botpt container key not available')"
   ]
  },
  {
   "cell_type": "code",
   "execution_count": 50,
   "metadata": {},
   "outputs": [],
   "source": [
    "botpt_service.create_blob_from_path('botpt', netcdf_filename, netcdf_filename, validate_content=True);"
   ]
  },
  {
   "cell_type": "code",
   "execution_count": 51,
   "metadata": {},
   "outputs": [
    {
     "name": "stdout",
     "output_type": "stream",
     "text": [
      "deployment0001_RS03ECAL-MJ03E-06-BOTPTA302-streamed-botpt_nano_sample_20141005T000000-20141005T010000.nc\n",
      "deployment0001_RS03ECAL-MJ03E-06-BOTPTA302-streamed-botpt_nano_sample_20141005T000000-20141005T235959.nc\n",
      "rawNetCDF/deployment0001_RS03CCAL-MJ03F-05-BOTPTA301-streamed-botpt_nano_sample_20140905T000000-20141128T115959.950000.nc\n",
      "rawNetCDF/deployment0001_RS03CCAL-MJ03F-05-BOTPTA301-streamed-botpt_nano_sample_20141005T000000-20141005T010000.nc\n",
      "rawNetCDF/deployment0001_RS03ECAL-MJ03E-06-BOTPTA302-streamed-botpt_nano_sample_20141005T000000-20141005T010000.nc\n",
      "rawNetCDF/deployment0001_RS03INT2-MJ03D-06-BOTPTA303-streamed-botpt_nano_sample_20140829T231732.975000-20141127T210000.100000.nc\n",
      "rawNetCDF/deployment0001_RS03INT2-MJ03D-06-BOTPTA303-streamed-botpt_nano_sample_20141127T205959.900000-20141205T210000.100000.nc\n",
      "rawNetCDF/deployment0001_RS03INT2-MJ03D-06-BOTPTA303-streamed-botpt_nano_sample_20150102T205959.900000-20150110T210000.100000.nc\n",
      "rawNetCDF/deployment0001_RS03INT2-MJ03D-06-BOTPTA303-streamed-botpt_nano_sample_20191030T210000-20191104T001712.700000.nc.html\n",
      "rawnetcdf/deployment0001_RS03CCAL-MJ03F-05-BOTPTA301-streamed-botpt_nano_sample_20140905T000000-20141128T115959.950000.nc\n",
      "rawnetcdf/deployment0001_RS03CCAL-MJ03F-05-BOTPTA301-streamed-botpt_nano_sample_20141005T000000-20141005T010000.nc\n",
      "rawnetcdf/deployment0001_RS03ECAL-MJ03E-06-BOTPTA302-streamed-botpt_nano_sample_20141005T000000-20141005T010000.nc\n",
      "rawnetcdf/deployment0001_RS03ECAL-MJ03E-06-BOTPTA302-streamed-botpt_nano_sample_20141005T000000-20141005T235959.nc\n",
      "rawnetcdf/deployment0001_RS03INT2-MJ03D-06-BOTPTA303-streamed-botpt_nano_sample_20140829T231732.975000-20141127T210000.100000.nc\n",
      "rawnetcdf/deployment0001_RS03INT2-MJ03D-06-BOTPTA303-streamed-botpt_nano_sample_20141127T205959.900000-20141205T210000.100000.nc\n",
      "rawnetcdf/deployment0001_RS03INT2-MJ03D-06-BOTPTA303-streamed-botpt_nano_sample_20150102T205959.900000-20150110T210000.100000.nc\n",
      "rawnetcdf/deployment0001_RS03INT2-MJ03D-06-BOTPTA303-streamed-botpt_nano_sample_20191030T210000-20191104T001712.700000.nc.html\n"
     ]
    }
   ],
   "source": [
    "for blob in botpt_service.list_blobs('botpt'):\n",
    "    print(blob.name)"
   ]
  },
  {
   "cell_type": "markdown",
   "metadata": {},
   "source": [
    "## Load the file into Xarray and save to ooiopendata"
   ]
  },
  {
   "cell_type": "code",
   "execution_count": 52,
   "metadata": {},
   "outputs": [],
   "source": [
    "import xarray as xr\n",
    "import zarr\n",
    "import logging\n",
    "logging.getLogger(\"azure.storage\").setLevel(logging.CRITICAL)"
   ]
  },
  {
   "cell_type": "code",
   "execution_count": 86,
   "metadata": {},
   "outputs": [
    {
     "data": {
      "text/html": [
       "<pre>&lt;xarray.Dataset&gt;\n",
       "Dimensions:           (time: 86401)\n",
       "Coordinates:\n",
       "    obs               (time) int32 0 1 2 3 4 5 ... 86396 86397 86398 86399 86400\n",
       "  * time              (time) datetime64[ns] 2014-10-05 ... 2014-10-05T23:59:59\n",
       "Data variables:\n",
       "    bottom_pressure   (time) float32 ...\n",
       "    press_trans_temp  (time) float64 ...\n",
       "    sensor_id         (time) object ...\n",
       "Attributes:\n",
       "    node:                               MJ03E\n",
       "    comment:                            \n",
       "    publisher_email:                    \n",
       "    sourceUrl:                          http://oceanobservatories.org/\n",
       "    collection_method:                  streamed\n",
       "    stream:                             botpt_nano_sample\n",
       "    featureType:                        point\n",
       "    creator_email:                      \n",
       "    publisher_name:                     Ocean Observatories Initiative\n",
       "    date_modified:                      2019-12-27T06:53:29.162523\n",
       "    keywords:                           \n",
       "    cdm_data_type:                      Point\n",
       "    references:                         More information can be found at http...\n",
       "    Metadata_Conventions:               Unidata Dataset Discovery v1.0\n",
       "    date_created:                       2019-12-27T06:53:29.162521\n",
       "    id:                                 RS03ECAL-MJ03E-06-BOTPTA302-streamed-...\n",
       "    requestUUID:                        f1ca252d-6630-4c41-a50f-37260ad3d47c\n",
       "    contributor_role:                   \n",
       "    summary:                            Dataset Generated by Stream Engine fr...\n",
       "    keywords_vocabulary:                \n",
       "    institution:                        Ocean Observatories Initiative\n",
       "    naming_authority:                   org.oceanobservatories\n",
       "    feature_Type:                       point\n",
       "    infoUrl:                            http://oceanobservatories.org/\n",
       "    license:                            \n",
       "    contributor_name:                   \n",
       "    uuid:                               f1ca252d-6630-4c41-a50f-37260ad3d47c\n",
       "    creator_name:                       Ocean Observatories Initiative\n",
       "    title:                              Data produced by Stream Engine versio...\n",
       "    sensor:                             06-BOTPTA302\n",
       "    standard_name_vocabulary:           NetCDF Climate and Forecast (CF) Meta...\n",
       "    acknowledgement:                    \n",
       "    Conventions:                        CF-1.6\n",
       "    project:                            Ocean Observatories Initiative\n",
       "    source:                             RS03ECAL-MJ03E-06-BOTPTA302-streamed-...\n",
       "    publisher_url:                      http://oceanobservatories.org/\n",
       "    creator_url:                        http://oceanobservatories.org/\n",
       "    nodc_template_version:              NODC_NetCDF_TimeSeries_Orthogonal_Tem...\n",
       "    subsite:                            RS03ECAL\n",
       "    processing_level:                   L2\n",
       "    history:                            2019-12-27T06:53:29.162489 generated ...\n",
       "    Manufacturer:                       NOAA-PMEL\n",
       "    ModelNumber:                        Custom\n",
       "    SerialNumber:                       7\n",
       "    Description:                        Bottom Pressure and Tilt: BOTPT Series A\n",
       "    FirmwareVersion:                    Not specified.\n",
       "    SoftwareVersion:                    Not specified.\n",
       "    AssetUniqueID:                      ATAPL-58316-00004\n",
       "    Notes:                              Not specified.\n",
       "    Owner:                              University of Washington\n",
       "    RemoteResources:                    []\n",
       "    ShelfLifeExpirationDate:            Not specified.\n",
       "    Mobile:                             False\n",
       "    AssetManagementRecordLastModified:  2019-12-13T22:37:58.271000\n",
       "    time_coverage_start:                2014-10-05T00:00:00\n",
       "    time_coverage_end:                  2014-10-05T23:59:59\n",
       "    time_coverage_resolution:           P1.00S\n",
       "    geospatial_lat_min:                 45.93986\n",
       "    geospatial_lat_max:                 45.93986\n",
       "    geospatial_lat_units:               degrees_north\n",
       "    geospatial_lat_resolution:          0.1\n",
       "    geospatial_lon_min:                 -129.97417\n",
       "    geospatial_lon_max:                 -129.97417\n",
       "    geospatial_lon_units:               degrees_east\n",
       "    geospatial_lon_resolution:          0.1\n",
       "    geospatial_vertical_units:          meters\n",
       "    geospatial_vertical_resolution:     0.1\n",
       "    geospatial_vertical_positive:       down\n",
       "    lat:                                45.93986\n",
       "    lon:                                -129.97417</pre>"
      ],
      "text/plain": [
       "<xarray.Dataset>\n",
       "Dimensions:           (time: 86401)\n",
       "Coordinates:\n",
       "    obs               (time) int32 0 1 2 3 4 5 ... 86396 86397 86398 86399 86400\n",
       "  * time              (time) datetime64[ns] 2014-10-05 ... 2014-10-05T23:59:59\n",
       "Data variables:\n",
       "    bottom_pressure   (time) float32 ...\n",
       "    press_trans_temp  (time) float64 ...\n",
       "    sensor_id         (time) object ...\n",
       "Attributes:\n",
       "    node:                               MJ03E\n",
       "    comment:                            \n",
       "    publisher_email:                    \n",
       "    sourceUrl:                          http://oceanobservatories.org/\n",
       "    collection_method:                  streamed\n",
       "    stream:                             botpt_nano_sample\n",
       "    featureType:                        point\n",
       "    creator_email:                      \n",
       "    publisher_name:                     Ocean Observatories Initiative\n",
       "    date_modified:                      2019-12-27T06:53:29.162523\n",
       "    keywords:                           \n",
       "    cdm_data_type:                      Point\n",
       "    references:                         More information can be found at http...\n",
       "    Metadata_Conventions:               Unidata Dataset Discovery v1.0\n",
       "    date_created:                       2019-12-27T06:53:29.162521\n",
       "    id:                                 RS03ECAL-MJ03E-06-BOTPTA302-streamed-...\n",
       "    requestUUID:                        f1ca252d-6630-4c41-a50f-37260ad3d47c\n",
       "    contributor_role:                   \n",
       "    summary:                            Dataset Generated by Stream Engine fr...\n",
       "    keywords_vocabulary:                \n",
       "    institution:                        Ocean Observatories Initiative\n",
       "    naming_authority:                   org.oceanobservatories\n",
       "    feature_Type:                       point\n",
       "    infoUrl:                            http://oceanobservatories.org/\n",
       "    license:                            \n",
       "    contributor_name:                   \n",
       "    uuid:                               f1ca252d-6630-4c41-a50f-37260ad3d47c\n",
       "    creator_name:                       Ocean Observatories Initiative\n",
       "    title:                              Data produced by Stream Engine versio...\n",
       "    sensor:                             06-BOTPTA302\n",
       "    standard_name_vocabulary:           NetCDF Climate and Forecast (CF) Meta...\n",
       "    acknowledgement:                    \n",
       "    Conventions:                        CF-1.6\n",
       "    project:                            Ocean Observatories Initiative\n",
       "    source:                             RS03ECAL-MJ03E-06-BOTPTA302-streamed-...\n",
       "    publisher_url:                      http://oceanobservatories.org/\n",
       "    creator_url:                        http://oceanobservatories.org/\n",
       "    nodc_template_version:              NODC_NetCDF_TimeSeries_Orthogonal_Tem...\n",
       "    subsite:                            RS03ECAL\n",
       "    processing_level:                   L2\n",
       "    history:                            2019-12-27T06:53:29.162489 generated ...\n",
       "    Manufacturer:                       NOAA-PMEL\n",
       "    ModelNumber:                        Custom\n",
       "    SerialNumber:                       7\n",
       "    Description:                        Bottom Pressure and Tilt: BOTPT Series A\n",
       "    FirmwareVersion:                    Not specified.\n",
       "    SoftwareVersion:                    Not specified.\n",
       "    AssetUniqueID:                      ATAPL-58316-00004\n",
       "    Notes:                              Not specified.\n",
       "    Owner:                              University of Washington\n",
       "    RemoteResources:                    []\n",
       "    ShelfLifeExpirationDate:            Not specified.\n",
       "    Mobile:                             False\n",
       "    AssetManagementRecordLastModified:  2019-12-13T22:37:58.271000\n",
       "    time_coverage_start:                2014-10-05T00:00:00\n",
       "    time_coverage_end:                  2014-10-05T23:59:59\n",
       "    time_coverage_resolution:           P1.00S\n",
       "    geospatial_lat_min:                 45.93986\n",
       "    geospatial_lat_max:                 45.93986\n",
       "    geospatial_lat_units:               degrees_north\n",
       "    geospatial_lat_resolution:          0.1\n",
       "    geospatial_lon_min:                 -129.97417\n",
       "    geospatial_lon_max:                 -129.97417\n",
       "    geospatial_lon_units:               degrees_east\n",
       "    geospatial_lon_resolution:          0.1\n",
       "    geospatial_vertical_units:          meters\n",
       "    geospatial_vertical_resolution:     0.1\n",
       "    geospatial_vertical_positive:       down\n",
       "    lat:                                45.93986\n",
       "    lon:                                -129.97417"
      ]
     },
     "execution_count": 86,
     "metadata": {},
     "output_type": "execute_result"
    }
   ],
   "source": [
    "ds = xr.open_dataset(netcdf_filename)\n",
    "ds = ds.swap_dims({'obs': 'time'})\n",
    "ds = ds.drop(['deployment','id', 'date_time_string', 'ingestion_timestamp', 'internal_timestamp','port_timestamp',\n",
    "             'driver_timestamp', 'preferred_timestamp', 'provenance', 'time_sync_flag', 'bottom_pressure_qc_executed',\n",
    "             'bottom_pressure_qc_results'])\n",
    "del ds['bottom_pressure'].attrs['coordinates']\n",
    "del ds['press_trans_temp'].attrs['coordinates']\n",
    "del ds['sensor_id'].attrs['coordinates']\n",
    "ds"
   ]
  },
  {
   "cell_type": "markdown",
   "metadata": {},
   "source": [
    "### Create new NetCDF file"
   ]
  },
  {
   "cell_type": "code",
   "execution_count": 92,
   "metadata": {},
   "outputs": [],
   "source": [
    "out = netcdf_url.split('/')[-1][:-3] + '_edit' + '.nc'\n",
    "ds.to_netcdf(out)"
   ]
  },
  {
   "cell_type": "code",
   "execution_count": 34,
   "metadata": {},
   "outputs": [
    {
     "data": {
      "text/plain": [
       "Data variables:\n",
       "    bottom_pressure              (time) float32 ...\n",
       "    date_time_string             (time) object ...\n",
       "    driver_timestamp             (time) datetime64[ns] ...\n",
       "    ingestion_timestamp          (time) datetime64[ns] ...\n",
       "    internal_timestamp           (time) datetime64[ns] ...\n",
       "    port_timestamp               (time) datetime64[ns] ...\n",
       "    preferred_timestamp          (time) object ...\n",
       "    press_trans_temp             (time) float64 ...\n",
       "    provenance                   (time) |S1 ...\n",
       "    sensor_id                    (time) object ...\n",
       "    time_sync_flag               (time) object ...\n",
       "    bottom_pressure_qc_executed  (time) uint8 ...\n",
       "    bottom_pressure_qc_results   (time) uint8 ..."
      ]
     },
     "execution_count": 34,
     "metadata": {},
     "output_type": "execute_result"
    }
   ],
   "source": [
    "ds.data_vars"
   ]
  },
  {
   "cell_type": "markdown",
   "metadata": {},
   "source": [
    "### Calculate sample rate"
   ]
  },
  {
   "cell_type": "code",
   "execution_count": 35,
   "metadata": {},
   "outputs": [
    {
     "data": {
      "text/plain": [
       "00:00:01    86396\n",
       "00:00:00        3\n",
       "00:00:03        1\n",
       "Name: obs, dtype: int64"
      ]
     },
     "execution_count": 35,
     "metadata": {},
     "output_type": "execute_result"
    }
   ],
   "source": [
    "import pandas as pd\n",
    "df = ds.to_dataframe()\n",
    "res = (pd.Series(df.index[1:]) - pd.Series(df.index[:-1])).value_counts()\n",
    "res"
   ]
  },
  {
   "cell_type": "code",
   "execution_count": 37,
   "metadata": {},
   "outputs": [
    {
     "data": {
      "text/plain": [
       "[<matplotlib.lines.Line2D at 0x7fb7e5895dd8>]"
      ]
     },
     "execution_count": 37,
     "metadata": {},
     "output_type": "execute_result"
    },
    {
     "data": {
      "image/png": "[encoded data removed]",
      "text/plain": [
       "<Figure size 432x288 with 1 Axes>"
      ]
     },
     "metadata": {
      "needs_background": "light"
     },
     "output_type": "display_data"
    }
   ],
   "source": [
    "ds['bottom_pressure'].plot()"
   ]
  },
  {
   "cell_type": "code",
   "execution_count": 38,
   "metadata": {},
   "outputs": [
    {
     "data": {
      "text/plain": [
       "'RS03ECAL-MJ03E-06-BOTPTA302-streamed-botpt_nano_sample'"
      ]
     },
     "execution_count": 38,
     "metadata": {},
     "output_type": "execute_result"
    }
   ],
   "source": [
    "ds.source"
   ]
  },
  {
   "cell_type": "code",
   "execution_count": 39,
   "metadata": {},
   "outputs": [
    {
     "data": {
      "text/plain": [
       "'RS03ECAL-MJ03E-06-BOTPTA302'"
      ]
     },
     "execution_count": 39,
     "metadata": {},
     "output_type": "execute_result"
    }
   ],
   "source": [
    "'%s-%s-%s' % (ds.subsite,ds.node,ds.sensor)"
   ]
  },
  {
   "cell_type": "code",
   "execution_count": 40,
   "metadata": {},
   "outputs": [
    {
     "data": {
      "text/html": [
       "<pre>&lt;xarray.DataArray &#x27;press_trans_temp&#x27; (time: 86401)&gt;\n",
       "array([3.335664, 3.33567 , 3.335676, ..., 3.342292, 3.342298, 3.342304])\n",
       "Coordinates:\n",
       "    obs      (time) int32 0 1 2 3 4 5 6 ... 86395 86396 86397 86398 86399 86400\n",
       "  * time     (time) datetime64[ns] 2014-10-05 ... 2014-10-05T23:59:59\n",
       "Attributes:\n",
       "    comment:                  Nano-resolution Pressure Transducer Temperature...\n",
       "    long_name:                Nano-Resolution Pressure Transducer Temperature\n",
       "    coordinates:              time lat lon\n",
       "    data_product_identifier:  NPTTEMP\n",
       "    units:                    ºC</pre>"
      ],
      "text/plain": [
       "<xarray.DataArray 'press_trans_temp' (time: 86401)>\n",
       "array([3.335664, 3.33567 , 3.335676, ..., 3.342292, 3.342298, 3.342304])\n",
       "Coordinates:\n",
       "    obs      (time) int32 0 1 2 3 4 5 6 ... 86395 86396 86397 86398 86399 86400\n",
       "  * time     (time) datetime64[ns] 2014-10-05 ... 2014-10-05T23:59:59\n",
       "Attributes:\n",
       "    comment:                  Nano-resolution Pressure Transducer Temperature...\n",
       "    long_name:                Nano-Resolution Pressure Transducer Temperature\n",
       "    coordinates:              time lat lon\n",
       "    data_product_identifier:  NPTTEMP\n",
       "    units:                    ºC"
      ]
     },
     "execution_count": 40,
     "metadata": {},
     "output_type": "execute_result"
    }
   ],
   "source": [
    "ds['press_trans_temp']"
   ]
  },
  {
   "cell_type": "code",
   "execution_count": 19,
   "metadata": {},
   "outputs": [
    {
     "data": {
      "text/plain": [
       "['Nano-resolution Pressure Transducer Temperature is the internal',\n",
       " 'transducer temperature that is used for onboard temperature-',\n",
       " 'compensation of the pressure measurements produced by the BOTPT',\n",
       " 'instrument.']"
      ]
     },
     "execution_count": 19,
     "metadata": {},
     "output_type": "execute_result"
    }
   ],
   "source": [
    "import textwrap\n",
    "textwrap.wrap(ds['press_trans_temp'].comment)"
   ]
  },
  {
   "cell_type": "code",
   "execution_count": 20,
   "metadata": {},
   "outputs": [
    {
     "data": {
      "text/plain": [
       "('time',)"
      ]
     },
     "execution_count": 20,
     "metadata": {},
     "output_type": "execute_result"
    }
   ],
   "source": [
    "ds['bottom_pressure'].dims"
   ]
  },
  {
   "cell_type": "code",
   "execution_count": 21,
   "metadata": {},
   "outputs": [
    {
     "data": {
      "text/plain": [
       "[<matplotlib.lines.Line2D at 0x7f5ceb2b26a0>]"
      ]
     },
     "execution_count": 21,
     "metadata": {},
     "output_type": "execute_result"
    },
    {
     "data": {
      "image/png": "[encoded data removed]",
      "text/plain": [
       "<Figure size 1008x648 with 2 Axes>"
      ]
     },
     "metadata": {
      "needs_background": "light"
     },
     "output_type": "display_data"
    }
   ],
   "source": [
    "import matplotlib.pyplot as plt\n",
    "fig, (ax1,ax2) = plt.subplots(2,1, sharex=True, figsize=(14,9))\n",
    "ds['bottom_pressure'].plot(ax=ax1,linestyle='None',marker='.',markersize=1)\n",
    "ds['press_trans_temp'].plot(ax=ax2,linestyle='None',marker='.',markersize=1)"
   ]
  },
  {
   "cell_type": "code",
   "execution_count": null,
   "metadata": {},
   "outputs": [],
   "source": []
  }
 ],
 "metadata": {
  "kernelspec": {
   "display_name": "Python 3",
   "language": "python",
   "name": "python3"
  },
  "language_info": {
   "codemirror_mode": {
    "name": "ipython",
    "version": 3
   },
   "file_extension": ".py",
   "mimetype": "text/x-python",
   "name": "python",
   "nbconvert_exporter": "python",
   "pygments_lexer": "ipython3",
   "version": "3.7.3"
  }
 },
 "nbformat": 4,
 "nbformat_minor": 4
}
