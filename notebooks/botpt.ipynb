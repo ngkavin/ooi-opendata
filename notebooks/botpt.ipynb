{
 "cells": [
  {
   "cell_type": "markdown",
   "metadata": {},
   "source": [
    "## Load available keys"
   ]
  },
  {
   "cell_type": "code",
   "execution_count": 1,
   "metadata": {},
   "outputs": [],
   "source": [
    "import ooiod"
   ]
  },
  {
   "cell_type": "code",
   "execution_count": 2,
   "metadata": {},
   "outputs": [
    {
     "name": "stdout",
     "output_type": "stream",
     "text": [
      "You have:\n",
      "    botpt\n"
     ]
    }
   ],
   "source": [
    "key_file = '/home/jovyan/repos/ooi-opendata/secrets/daxsoule.pickle'\n",
    "keys = ooiod.secrets.load_keys(key_file)"
   ]
  },
  {
   "cell_type": "markdown",
   "metadata": {},
   "source": [
    "## Download a NetCDF file from OOI results server"
   ]
  },
  {
   "cell_type": "code",
   "execution_count": 3,
   "metadata": {},
   "outputs": [],
   "source": [
    "netcdf_url = 'https://opendap.oceanobservatories.org/async_results/dax.soule@qc.cuny.edu/20191104T001715257Z-RS03INT2-MJ03D-06-BOTPTA303-streamed-botpt_nano_sample/deployment0001_RS03INT2-MJ03D-06-BOTPTA303-streamed-botpt_nano_sample_20150102T205959.900000-20150110T210000.100000.nc'\n",
    "netcdf_filename = netcdf_url.split('/')[-1]"
   ]
  },
  {
   "cell_type": "code",
   "execution_count": 4,
   "metadata": {},
   "outputs": [],
   "source": [
    "import wget"
   ]
  },
  {
   "cell_type": "code",
   "execution_count": 5,
   "metadata": {},
   "outputs": [],
   "source": [
    "wget.download(netcdf_url);"
   ]
  },
  {
   "cell_type": "markdown",
   "metadata": {},
   "source": [
    "## Write the original NetCDF file into Azure blob"
   ]
  },
  {
   "cell_type": "code",
   "execution_count": 6,
   "metadata": {},
   "outputs": [],
   "source": [
    "from azure.storage.blob import BlockBlobService"
   ]
  },
  {
   "cell_type": "code",
   "execution_count": 7,
   "metadata": {},
   "outputs": [],
   "source": [
    "if 'botpt' in keys:\n",
    "    botpt_service = BlockBlobService('ooiopendata', sas_token = keys['botpt'])\n",
    "else:\n",
    "    raise Exception('Botpt container key not available')"
   ]
  },
  {
   "cell_type": "code",
   "execution_count": 8,
   "metadata": {},
   "outputs": [],
   "source": [
    "botpt_service.create_blob_from_path('botpt', netcdf_filename, netcdf_filename, validate_content=True);"
   ]
  },
  {
   "cell_type": "code",
   "execution_count": 9,
   "metadata": {},
   "outputs": [
    {
     "name": "stdout",
     "output_type": "stream",
     "text": [
      "deployment0001_RS03INT2-MJ03D-06-BOTPTA303-streamed-botpt_nano_sample_20140829T231732.975000-20141127T210000.100000.nc\n",
      "deployment0001_RS03INT2-MJ03D-06-BOTPTA303-streamed-botpt_nano_sample_20141127T205959.900000-20141205T210000.100000.nc\n",
      "deployment0001_RS03INT2-MJ03D-06-BOTPTA303-streamed-botpt_nano_sample_20150102T205959.900000-20150110T210000.100000.nc\n",
      "deployment0001_RS03INT2-MJ03D-06-BOTPTA303-streamed-botpt_nano_sample_20191030T210000-20191104T001712.700000.nc.html\n"
     ]
    }
   ],
   "source": [
    "for blob in botpt_service.list_blobs('botpt'):\n",
    "    print(blob.name)"
   ]
  },
  {
   "cell_type": "markdown",
   "metadata": {},
   "source": [
    "## Load the file into Xarray and save to ooiopendata"
   ]
  },
  {
   "cell_type": "code",
   "execution_count": 10,
   "metadata": {},
   "outputs": [],
   "source": [
    "import xarray as xr\n",
    "import zarr\n",
    "import logging\n",
    "logging.getLogger(\"azure.storage\").setLevel(logging.CRITICAL)"
   ]
  },
  {
   "cell_type": "code",
   "execution_count": 11,
   "metadata": {},
   "outputs": [
    {
     "data": {
      "text/html": [
       "<pre>&lt;xarray.Dataset&gt;\n",
       "Dimensions:                      (obs: 13786091)\n",
       "Coordinates:\n",
       "  * obs                          (obs) int32 0 1 2 ... 13786089 13786090\n",
       "Data variables:\n",
       "    time                         (obs) datetime64[ns] ...\n",
       "    deployment                   (obs) int32 ...\n",
       "    id                           (obs) |S36 ...\n",
       "    bottom_pressure              (obs) float32 ...\n",
       "    date_time_string             (obs) object ...\n",
       "    driver_timestamp             (obs) datetime64[ns] ...\n",
       "    ingestion_timestamp          (obs) datetime64[ns] ...\n",
       "    internal_timestamp           (obs) datetime64[ns] ...\n",
       "    port_timestamp               (obs) datetime64[ns] ...\n",
       "    preferred_timestamp          (obs) object ...\n",
       "    press_trans_temp             (obs) float64 ...\n",
       "    provenance                   (obs) |S1 ...\n",
       "    sensor_id                    (obs) object ...\n",
       "    time_sync_flag               (obs) object ...\n",
       "    bottom_pressure_qc_executed  (obs) uint8 ...\n",
       "    bottom_pressure_qc_results   (obs) uint8 ...\n",
       "Attributes:\n",
       "    node:                               MJ03D\n",
       "    comment:                            \n",
       "    publisher_email:                    \n",
       "    sourceUrl:                          http://oceanobservatories.org/\n",
       "    collection_method:                  streamed\n",
       "    stream:                             botpt_nano_sample\n",
       "    featureType:                        point\n",
       "    creator_email:                      \n",
       "    publisher_name:                     Ocean Observatories Initiative\n",
       "    date_modified:                      2019-11-04T07:40:15.069905\n",
       "    keywords:                           \n",
       "    cdm_data_type:                      Point\n",
       "    references:                         More information can be found at http...\n",
       "    Metadata_Conventions:               Unidata Dataset Discovery v1.0\n",
       "    date_created:                       2019-11-04T07:40:15.069900\n",
       "    id:                                 RS03INT2-MJ03D-06-BOTPTA303-streamed-...\n",
       "    requestUUID:                        e7cba928-5838-429e-8276-fd60651f4659\n",
       "    contributor_role:                   \n",
       "    summary:                            Dataset Generated by Stream Engine fr...\n",
       "    keywords_vocabulary:                \n",
       "    institution:                        Ocean Observatories Initiative\n",
       "    naming_authority:                   org.oceanobservatories\n",
       "    feature_Type:                       point\n",
       "    infoUrl:                            http://oceanobservatories.org/\n",
       "    license:                            \n",
       "    contributor_name:                   \n",
       "    uuid:                               e7cba928-5838-429e-8276-fd60651f4659\n",
       "    creator_name:                       Ocean Observatories Initiative\n",
       "    title:                              Data produced by Stream Engine versio...\n",
       "    sensor:                             06-BOTPTA303\n",
       "    standard_name_vocabulary:           NetCDF Climate and Forecast (CF) Meta...\n",
       "    acknowledgement:                    \n",
       "    Conventions:                        CF-1.6\n",
       "    project:                            Ocean Observatories Initiative\n",
       "    source:                             RS03INT2-MJ03D-06-BOTPTA303-streamed-...\n",
       "    publisher_url:                      http://oceanobservatories.org/\n",
       "    creator_url:                        http://oceanobservatories.org/\n",
       "    nodc_template_version:              NODC_NetCDF_TimeSeries_Orthogonal_Tem...\n",
       "    subsite:                            RS03INT2\n",
       "    processing_level:                   L2\n",
       "    history:                            2019-11-04T07:40:15.069843 generated ...\n",
       "    Manufacturer:                       NOAA-PMEL\n",
       "    ModelNumber:                        Custom\n",
       "    SerialNumber:                       4\n",
       "    Description:                        Bottom Pressure and Tilt: BOTPT Series A\n",
       "    FirmwareVersion:                    Not specified.\n",
       "    SoftwareVersion:                    Not specified.\n",
       "    AssetUniqueID:                      ATAPL-58316-00002\n",
       "    Notes:                              Not specified.\n",
       "    Owner:                              University of Washington\n",
       "    RemoteResources:                    []\n",
       "    ShelfLifeExpirationDate:            Not specified.\n",
       "    Mobile:                             False\n",
       "    AssetManagementRecordLastModified:  2019-10-25T22:32:47.785000\n",
       "    time_coverage_start:                2015-01-02T20:59:59.900000\n",
       "    time_coverage_end:                  2015-01-10T21:00:00.100000\n",
       "    time_coverage_resolution:           P0.05S\n",
       "    geospatial_lat_min:                 45.9258\n",
       "    geospatial_lat_max:                 45.9258\n",
       "    geospatial_lat_units:               degrees_north\n",
       "    geospatial_lat_resolution:          0.1\n",
       "    geospatial_lon_min:                 -129.9775\n",
       "    geospatial_lon_max:                 -129.9775\n",
       "    geospatial_lon_units:               degrees_east\n",
       "    geospatial_lon_resolution:          0.1\n",
       "    geospatial_vertical_units:          meters\n",
       "    geospatial_vertical_resolution:     0.1\n",
       "    geospatial_vertical_positive:       down\n",
       "    lat:                                45.9258\n",
       "    lon:                                -129.9775</pre>"
      ],
      "text/plain": [
       "<xarray.Dataset>\n",
       "Dimensions:                      (obs: 13786091)\n",
       "Coordinates:\n",
       "  * obs                          (obs) int32 0 1 2 ... 13786089 13786090\n",
       "Data variables:\n",
       "    time                         (obs) datetime64[ns] ...\n",
       "    deployment                   (obs) int32 ...\n",
       "    id                           (obs) |S36 ...\n",
       "    bottom_pressure              (obs) float32 ...\n",
       "    date_time_string             (obs) object ...\n",
       "    driver_timestamp             (obs) datetime64[ns] ...\n",
       "    ingestion_timestamp          (obs) datetime64[ns] ...\n",
       "    internal_timestamp           (obs) datetime64[ns] ...\n",
       "    port_timestamp               (obs) datetime64[ns] ...\n",
       "    preferred_timestamp          (obs) object ...\n",
       "    press_trans_temp             (obs) float64 ...\n",
       "    provenance                   (obs) |S1 ...\n",
       "    sensor_id                    (obs) object ...\n",
       "    time_sync_flag               (obs) object ...\n",
       "    bottom_pressure_qc_executed  (obs) uint8 ...\n",
       "    bottom_pressure_qc_results   (obs) uint8 ...\n",
       "Attributes:\n",
       "    node:                               MJ03D\n",
       "    comment:                            \n",
       "    publisher_email:                    \n",
       "    sourceUrl:                          http://oceanobservatories.org/\n",
       "    collection_method:                  streamed\n",
       "    stream:                             botpt_nano_sample\n",
       "    featureType:                        point\n",
       "    creator_email:                      \n",
       "    publisher_name:                     Ocean Observatories Initiative\n",
       "    date_modified:                      2019-11-04T07:40:15.069905\n",
       "    keywords:                           \n",
       "    cdm_data_type:                      Point\n",
       "    references:                         More information can be found at http...\n",
       "    Metadata_Conventions:               Unidata Dataset Discovery v1.0\n",
       "    date_created:                       2019-11-04T07:40:15.069900\n",
       "    id:                                 RS03INT2-MJ03D-06-BOTPTA303-streamed-...\n",
       "    requestUUID:                        e7cba928-5838-429e-8276-fd60651f4659\n",
       "    contributor_role:                   \n",
       "    summary:                            Dataset Generated by Stream Engine fr...\n",
       "    keywords_vocabulary:                \n",
       "    institution:                        Ocean Observatories Initiative\n",
       "    naming_authority:                   org.oceanobservatories\n",
       "    feature_Type:                       point\n",
       "    infoUrl:                            http://oceanobservatories.org/\n",
       "    license:                            \n",
       "    contributor_name:                   \n",
       "    uuid:                               e7cba928-5838-429e-8276-fd60651f4659\n",
       "    creator_name:                       Ocean Observatories Initiative\n",
       "    title:                              Data produced by Stream Engine versio...\n",
       "    sensor:                             06-BOTPTA303\n",
       "    standard_name_vocabulary:           NetCDF Climate and Forecast (CF) Meta...\n",
       "    acknowledgement:                    \n",
       "    Conventions:                        CF-1.6\n",
       "    project:                            Ocean Observatories Initiative\n",
       "    source:                             RS03INT2-MJ03D-06-BOTPTA303-streamed-...\n",
       "    publisher_url:                      http://oceanobservatories.org/\n",
       "    creator_url:                        http://oceanobservatories.org/\n",
       "    nodc_template_version:              NODC_NetCDF_TimeSeries_Orthogonal_Tem...\n",
       "    subsite:                            RS03INT2\n",
       "    processing_level:                   L2\n",
       "    history:                            2019-11-04T07:40:15.069843 generated ...\n",
       "    Manufacturer:                       NOAA-PMEL\n",
       "    ModelNumber:                        Custom\n",
       "    SerialNumber:                       4\n",
       "    Description:                        Bottom Pressure and Tilt: BOTPT Series A\n",
       "    FirmwareVersion:                    Not specified.\n",
       "    SoftwareVersion:                    Not specified.\n",
       "    AssetUniqueID:                      ATAPL-58316-00002\n",
       "    Notes:                              Not specified.\n",
       "    Owner:                              University of Washington\n",
       "    RemoteResources:                    []\n",
       "    ShelfLifeExpirationDate:            Not specified.\n",
       "    Mobile:                             False\n",
       "    AssetManagementRecordLastModified:  2019-10-25T22:32:47.785000\n",
       "    time_coverage_start:                2015-01-02T20:59:59.900000\n",
       "    time_coverage_end:                  2015-01-10T21:00:00.100000\n",
       "    time_coverage_resolution:           P0.05S\n",
       "    geospatial_lat_min:                 45.9258\n",
       "    geospatial_lat_max:                 45.9258\n",
       "    geospatial_lat_units:               degrees_north\n",
       "    geospatial_lat_resolution:          0.1\n",
       "    geospatial_lon_min:                 -129.9775\n",
       "    geospatial_lon_max:                 -129.9775\n",
       "    geospatial_lon_units:               degrees_east\n",
       "    geospatial_lon_resolution:          0.1\n",
       "    geospatial_vertical_units:          meters\n",
       "    geospatial_vertical_resolution:     0.1\n",
       "    geospatial_vertical_positive:       down\n",
       "    lat:                                45.9258\n",
       "    lon:                                -129.9775"
      ]
     },
     "execution_count": 11,
     "metadata": {},
     "output_type": "execute_result"
    }
   ],
   "source": [
    "ds = xr.open_dataset(netcdf_filename)\n",
    "ds"
   ]
  },
  {
   "cell_type": "code",
   "execution_count": null,
   "metadata": {},
   "outputs": [],
   "source": [
    "ds"
   ]
  },
  {
   "cell_type": "code",
   "execution_count": null,
   "metadata": {},
   "outputs": [],
   "source": []
  }
 ],
 "metadata": {
  "kernelspec": {
   "display_name": "Python 3",
   "language": "python",
   "name": "python3"
  },
  "language_info": {
   "codemirror_mode": {
    "name": "ipython",
    "version": 3
   },
   "file_extension": ".py",
   "mimetype": "text/x-python",
   "name": "python",
   "nbconvert_exporter": "python",
   "pygments_lexer": "ipython3",
   "version": "3.7.3"
  }
 },
 "nbformat": 4,
 "nbformat_minor": 4
}
